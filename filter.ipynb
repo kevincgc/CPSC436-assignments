{
 "cells": [
  {
   "cell_type": "code",
   "execution_count": 72,
   "id": "9d706baa-83a1-4774-9fcc-9c6142292cf1",
   "metadata": {},
   "outputs": [
    {
     "name": "stdout",
     "output_type": "stream",
     "text": [
      "completed with 119 countries added\n"
     ]
    }
   ],
   "source": [
    "import csv\n",
    "\n",
    "minYear = 2011\n",
    "maxYear = 2020\n",
    "\n",
    "with open('happiness_data.csv', encoding=\"utf-8\") as inp, open('happiness_data_processed.csv', 'w', encoding=\"utf-8\", newline='') as out:\n",
    "    writer = csv.writer(out)\n",
    "    reader = csv.reader(inp)\n",
    "    writer.writerow(next(reader))\n",
    "    years = list(range(minYear, maxYear + 1))\n",
    "    buffer = []\n",
    "    country = \"\"\n",
    "    count = 0\n",
    "    for row in reader:\n",
    "        if country != row[0]:\n",
    "            if len(buffer) >= maxYear - minYear:\n",
    "                count += 1\n",
    "                for bufferRow in buffer:\n",
    "                    writer.writerow(bufferRow)\n",
    "            country = row[0]\n",
    "            buffer.clear()\n",
    "        if int(row[1]) in years:\n",
    "            buffer.append(row)\n",
    "            \n",
    "print('completed with', count, 'countries added')"
   ]
  },
  {
   "cell_type": "code",
   "execution_count": null,
   "id": "7d81b397-4750-434b-9d70-24687460cafd",
   "metadata": {},
   "outputs": [],
   "source": []
  }
 ],
 "metadata": {
  "kernelspec": {
   "display_name": "Python 3 (ipykernel)",
   "language": "python",
   "name": "python3"
  },
  "language_info": {
   "codemirror_mode": {
    "name": "ipython",
    "version": 3
   },
   "file_extension": ".py",
   "mimetype": "text/x-python",
   "name": "python",
   "nbconvert_exporter": "python",
   "pygments_lexer": "ipython3",
   "version": "3.9.7"
  }
 },
 "nbformat": 4,
 "nbformat_minor": 5
}
