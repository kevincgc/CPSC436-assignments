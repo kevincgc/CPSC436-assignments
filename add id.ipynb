{
 "cells": [
  {
   "cell_type": "code",
   "execution_count": 72,
   "id": "9d706baa-83a1-4774-9fcc-9c6142292cf1",
   "metadata": {},
   "outputs": [
    {
     "name": "stdout",
     "output_type": "stream",
     "text": [
      "completed with 119 countries added\n"
     ]
    }
   ],
   "source": [
    "import csv\n",
    "\n",
    "minYear = 2011\n",
    "maxYear = 2020\n",
    "\n",
    "with open('happiness_data.csv', encoding=\"utf-8\") as inp, open('happiness_data_processed.csv', 'w', encoding=\"utf-8\", newline='') as out:\n",
    "    writer = csv.writer(out)\n",
    "    reader = csv.reader(inp)\n",
    "    writer.writerow(next(reader))\n",
    "    years = list(range(minYear, maxYear + 1))\n",
    "    buffer = []\n",
    "    country = \"\"\n",
    "    count = 0\n",
    "    for row in reader:\n",
    "        if country != row[0]:\n",
    "            if len(buffer) >= maxYear - minYear:\n",
    "                count += 1\n",
    "                for bufferRow in buffer:\n",
    "                    writer.writerow(bufferRow)\n",
    "            country = row[0]\n",
    "            buffer.clear()\n",
    "        if int(row[1]) in years:\n",
    "            buffer.append(row)\n",
    "            \n",
    "print('completed with', count, 'countries added')"
   ]
  },
  {
   "cell_type": "code",
   "execution_count": 7,
   "id": "7d81b397-4750-434b-9d70-24687460cafd",
   "metadata": {},
   "outputs": [
    {
     "name": "stdout",
     "output_type": "stream",
     "text": [
      "done\n"
     ]
    }
   ],
   "source": [
    "import csv\n",
    "import pycountry\n",
    "\n",
    "with open('data.csv', encoding=\"utf-8\") as inp, open('data_out.csv', 'w', encoding=\"utf-8\", newline='') as out:\n",
    "    writer = csv.writer(out)\n",
    "    reader = csv.reader(inp)\n",
    "    header = next(reader)\n",
    "    header.append(\"id\")\n",
    "    writer.writerow(header)\n",
    "    country = pycountry.countries.get(name=\"Canada\")\n",
    "    for row in reader:\n",
    "        name = row[1]\n",
    "        match name:\n",
    "            case \"Bolivia\":\n",
    "                country.numeric = \"068\"\n",
    "            case \"Congo (Brazzaville)\":\n",
    "                country.numeric = \"178\"\n",
    "            case \"Czech Republic\":\n",
    "                country.numeric = \"203\"\n",
    "            case \"Iran\":\n",
    "                country.numeric = \"364\"\n",
    "            case \"Kosovo\":\n",
    "                country.numeric = \"383\"\n",
    "            case \"Moldova\":\n",
    "                country.numeric = \"498\"\n",
    "            case \"Palestinian Territories\":\n",
    "                country.numeric = \"275\"\n",
    "            case \"Russia\":\n",
    "                country.numeric = \"643\"\n",
    "            case \"South Korea\":\n",
    "                country.numeric = \"410\"\n",
    "            case \"Taiwan Province of China\":\n",
    "                country.numeric = \"158\"\n",
    "            case \"Tanzania\":\n",
    "                country.numeric = \"834\"\n",
    "            case \"Venezuela\":\n",
    "                country.numeric = \"862\"\n",
    "            case \"Vietnam\":\n",
    "                country.numeric = \"704\"\n",
    "            case _:\n",
    "                country = pycountry.countries.get(name=row[1])\n",
    "        if (country):\n",
    "            row.append(country.numeric)\n",
    "        writer.writerow(row)\n",
    "print(\"done\")\n",
    "            "
   ]
  },
  {
   "cell_type": "code",
   "execution_count": 1,
   "id": "3edb906f-a413-4f4f-abbe-9d786c5e5403",
   "metadata": {},
   "outputs": [
    {
     "name": "stdout",
     "output_type": "stream",
     "text": [
      "10\n"
     ]
    }
   ],
   "source": [
    "import sys\n",
    "print(sys.version_info[1])"
   ]
  },
  {
   "cell_type": "code",
   "execution_count": null,
   "id": "322ad4e5-4dd4-405f-afba-8c39464dfe09",
   "metadata": {},
   "outputs": [],
   "source": []
  }
 ],
 "metadata": {
  "kernelspec": {
   "display_name": "Python 3 (ipykernel)",
   "language": "python",
   "name": "python3"
  },
  "language_info": {
   "codemirror_mode": {
    "name": "ipython",
    "version": 3
   },
   "file_extension": ".py",
   "mimetype": "text/x-python",
   "name": "python",
   "nbconvert_exporter": "python",
   "pygments_lexer": "ipython3",
   "version": "3.10.3"
  }
 },
 "nbformat": 4,
 "nbformat_minor": 5
}
